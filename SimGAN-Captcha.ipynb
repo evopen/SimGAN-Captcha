{
 "cells": [
  {
   "cell_type": "markdown",
   "metadata": {},
   "source": [
    "# SimGAN-Captcha\n",
    "\n",
    "With this method, breaking captchas has never been easier. You don't need to labeling any data. However, a hand tuned captcha generator is required to save training time.\n",
    "\n",
    "Its underlying model is SimGAN developed by Apple ([pdf](https://arxiv.org/pdf/1612.07828v1.pdf)). The model uses a refiner-discriminator architecture. \n",
    "\n",
    "![SimGAN](http://www.fudzilla.com/images/stories/2016/December/apple-simgan-generative-adversarial-networks.jpg)\n",
    "\n",
    "# The task\n",
    "\n",
    "[HackMIT Puzzle #5](https://captcha.delorean.codes/u/rickyhan/).\n",
    "\n",
    "Correctly label 10000 out of 15000 captcha or 90% per character."
   ]
  },
  {
   "cell_type": "markdown",
   "metadata": {},
   "source": [
    "## Preprocessing"
   ]
  },
  {
   "cell_type": "markdown",
   "metadata": {},
   "source": [
    "### Download target captcha files\n",
    "\n",
    "Here we download some captchas from the contest website. Each batch has 1000 captchas. We'll use 20000 so 20 batches."
   ]
  },
  {
   "cell_type": "code",
   "execution_count": 1,
   "metadata": {},
   "outputs": [],
   "source": [
    "import requests\n",
    "import threading\n",
    "# URL = \"https://captcha.delorean.codes/u/rickyhan/challenge\"\n",
    "DIR = \"challenges/\"\n",
    "NUM_CHALLENGES = 20\n",
    "IMG_DIR = \"./orig\"\n",
    "# lock = threading.Lock()"
   ]
  },
  {
   "cell_type": "code",
   "execution_count": null,
   "metadata": {},
   "outputs": [],
   "source": [
    "def download_file(url, fname):\n",
    "    # NOTE the stream=True parameter\n",
    "    r = requests.get(url, stream=True)\n",
    "    with open(fname, 'wb') as f:\n",
    "        for chunk in r.iter_content(chunk_size=1024): \n",
    "            if chunk: # filter out keep-alive new chunks\n",
    "                f.write(chunk)\n",
    "                #f.flush() commented by recommendation from J.F.Sebastian\n",
    "    with lock:\n",
    "        pass\n",
    "        # print fname\n",
    "\n",
    "\n",
    "ts = []\n",
    "for i in range(NUM_CHALLENGES):\n",
    "    fname = DIR + \"challenge-{}\".format(i)\n",
    "    t = threading.Thread(target=download_file, args=(URL, fname))\n",
    "    ts.append(t)\n",
    "    t.start()\n",
    "for t in ts:\n",
    "    t.join()\n",
    "print \"Done\""
   ]
  },
  {
   "cell_type": "markdown",
   "metadata": {},
   "source": [
    "### Decompression\n",
    "\n",
    "Each challenge file is actually a json object containing 1000 base64 encoded jpg image file. So for each of these challenge files, we decompress each base64 strs into a jpeg and put that under a seprate folder."
   ]
  },
  {
   "cell_type": "code",
   "execution_count": null,
   "metadata": {
    "scrolled": true
   },
   "outputs": [],
   "source": [
    "import json, base64, os\n",
    "fnames = [\"{}/challenge-{}\".format(DIR, i) for i in range(NUM_CHALLENGES)]\n",
    "if not os.path.exists(IMG_DIR):\n",
    "    os.mkdir(IMG_DIR)\n",
    "def save_imgs(fname):\n",
    "    with open(fname) as f:\n",
    "        l = json.loads(f.read())\n",
    "\n",
    "    for image in l['images']:\n",
    "        b = base64.b64decode(image['jpg_base64'])\n",
    "        name = image['name']\n",
    "        with open(IMG_DIR+\"/{}.jpg\".format(name), 'wb') as f:\n",
    "            f.write(b)\n",
    "\n",
    "for fname in fnames:\n",
    "    save_imgs(fname)\n",
    "assert len(os.listdir(IMG_DIR)) == 1000 * NUM_CHALLENGES"
   ]
  },
  {
   "cell_type": "code",
   "execution_count": 2,
   "metadata": {},
   "outputs": [],
   "source": [
    "import os\n",
    "from PIL import Image\n",
    "imgpath = IMG_DIR + \"/\" + os.listdir(IMG_DIR)[0]\n",
    "imgpath2 = IMG_DIR + \"/\" + os.listdir(IMG_DIR)[3]\n",
    "im = Image.open(imgpath)\n",
    "im2 = Image.open(imgpath2)\n",
    "IMG_FNAMES = [IMG_DIR + '/' + p for p in os.listdir(IMG_DIR)]"
   ]
  },
  {
   "cell_type": "code",
   "execution_count": 3,
   "metadata": {},
   "outputs": [
    {
     "data": {
      "image/png": "[encoded data removed]",
      "text/plain": [
       "<PIL.JpegImagePlugin.JpegImageFile image mode=L size=100x50 at 0x109ADF0F0>"
      ]
     },
     "execution_count": 3,
     "metadata": {},
     "output_type": "execute_result"
    }
   ],
   "source": [
    "im"
   ]
  },
  {
   "cell_type": "code",
   "execution_count": 4,
   "metadata": {},
   "outputs": [
    {
     "data": {
      "image/png": "[encoded data removed]",
      "text/plain": [
       "<PIL.JpegImagePlugin.JpegImageFile image mode=L size=100x50 at 0x109CBFE80>"
      ]
     },
     "execution_count": 4,
     "metadata": {},
     "output_type": "execute_result"
    }
   ],
   "source": [
    "im2"
   ]
  },
  {
   "cell_type": "markdown",
   "metadata": {},
   "source": [
    "### Convert to black and white\n",
    "Instead of RGB, binarized image saves significant compute. Here we hardcode a threshold and iterate over each pixel to obtain a binary image."
   ]
  },
  {
   "cell_type": "code",
   "execution_count": null,
   "metadata": {},
   "outputs": [],
   "source": [
    "import cv2 as cv\n",
    "\n",
    "def gray(img_path):\n",
    "    # convert to grayscale, then binarize\n",
    "    img = Image.open(img_path).convert(\"L\")\n",
    "    img = img.point(lambda x: 255 if x > 200 or x == 0 else x) # value found through T&E\n",
    "    img = img.point(lambda x: 0 if x < 255 else 255, \"1\")\n",
    "    img.save(img_path)\n",
    "\n",
    "for img_path in IMG_FNAMES:\n",
    "    gray(img_path)"
   ]
  },
  {
   "cell_type": "code",
   "execution_count": 5,
   "metadata": {
    "scrolled": false
   },
   "outputs": [
    {
     "data": {
      "image/png": "[encoded data removed]",
      "text/plain": [
       "<PIL.JpegImagePlugin.JpegImageFile image mode=L size=100x50 at 0x109ACDFD0>"
      ]
     },
     "execution_count": 5,
     "metadata": {},
     "output_type": "execute_result"
    }
   ],
   "source": [
    "im = Image.open(imgpath)\n",
    "im"
   ]
  },
  {
   "cell_type": "markdown",
   "metadata": {},
   "source": [
    "### Find mask\n",
    "\n",
    "As you may have noticed, all the captchas share the same horizontal lines. Since this is a contest, it was a function of participant's username. In the real world, these noises can be filtered out using morphological transformation with OpenCV.\n",
    "\n",
    "We will extract and save the lines(noise) for later use. Here we average all 20000 captchas and set a threshold as above. Another method is using a bit mask (&=) to iteratively filter out surrounding black pixels i.e.\n",
    "\n",
    "```\n",
    "mask = np.ones((height, width))\n",
    "for im in ims:\n",
    "    mask &= im\n",
    "```\n",
    "\n",
    "The effectiveness of bit mask depends on how clean the binarized data is. With the averaging method, some error is allowed."
   ]
  },
  {
   "cell_type": "code",
   "execution_count": 6,
   "metadata": {},
   "outputs": [],
   "source": [
    "import numpy as np\n",
    "WIDTH, HEIGHT = im.size\n",
    "MASK_DIR = \"avg.png\""
   ]
  },
  {
   "cell_type": "code",
   "execution_count": 9,
   "metadata": {},
   "outputs": [],
   "source": [
    "# Time consuming\n",
    "def generateMask():\n",
    "    N=1000*NUM_CHALLENGES\n",
    "    arr=np.zeros((HEIGHT, WIDTH),np.float)\n",
    "    for fname in IMG_FNAMES:\n",
    "        imarr=np.array(Image.open(fname),dtype=np.float)\n",
    "        arr=arr+imarr/N\n",
    "    arr=np.array(np.round(arr),dtype=np.uint8)\n",
    "    out=Image.fromarray(arr,mode=\"L\")\n",
    "    out.save(MASK_DIR)\n",
    "\n",
    "generateMask()"
   ]
  },
  {
   "cell_type": "code",
   "execution_count": 7,
   "metadata": {},
   "outputs": [
    {
     "data": {
      "image/png": "[encoded data removed]",
      "text/plain": [
       "<PIL.PngImagePlugin.PngImageFile image mode=1 size=100x50 at 0x109D66AC8>"
      ]
     },
     "execution_count": 7,
     "metadata": {},
     "output_type": "execute_result"
    }
   ],
   "source": [
    "im = Image.open(MASK_DIR) # ok this can be done with binary mask: &=\n",
    "im"
   ]
  },
  {
   "cell_type": "code",
   "execution_count": 8,
   "metadata": {},
   "outputs": [],
   "source": [
    "im = Image.open(MASK_DIR)\n",
    "im = im.point(lambda x:255 if x > 230 else x)\n",
    "im = im.point(lambda x:0 if x<255 else 255, \"1\")\n",
    "im.save(MASK_DIR)"
   ]
  },
  {
   "cell_type": "code",
   "execution_count": 9,
   "metadata": {},
   "outputs": [
    {
     "data": {
      "image/png": "[encoded data removed]",
      "text/plain": [
       "<PIL.Image.Image image mode=1 size=100x50 at 0x10AB69B38>"
      ]
     },
     "execution_count": 9,
     "metadata": {},
     "output_type": "execute_result"
    }
   ],
   "source": [
    "im"
   ]
  },
  {
   "cell_type": "markdown",
   "metadata": {},
   "source": [
    "# Generator for real captchas\n",
    "\n",
    "Using a Keras built in generator function `flow_from_directory` to automatically import and preprocess real captchas from a folder."
   ]
  },
  {
   "cell_type": "code",
   "execution_count": 10,
   "metadata": {},
   "outputs": [
    {
     "name": "stderr",
     "output_type": "stream",
     "text": [
      "/usr/local/miniconda3/envs/everything/lib/python3.6/site-packages/h5py/__init__.py:36: FutureWarning: Conversion of the second argument of issubdtype from `float` to `np.floating` is deprecated. In future, it will be treated as `np.float64 == np.dtype(float).type`.\n",
      "  from ._conv import register_converters as _register_converters\n",
      "Using TensorFlow backend.\n"
     ]
    }
   ],
   "source": [
    "from keras import models\n",
    "from keras import layers\n",
    "from keras import optimizers\n",
    "from keras import applications\n",
    "from keras.preprocessing import image\n",
    "import tensorflow as tf"
   ]
  },
  {
   "cell_type": "code",
   "execution_count": 11,
   "metadata": {},
   "outputs": [
    {
     "name": "stdout",
     "output_type": "stream",
     "text": [
      "Found 20000 images belonging to 5 classes.\n"
     ]
    }
   ],
   "source": [
    "# Real data generator\n",
    "BATCH_SIZE = 20\n",
    "datagen = image.ImageDataGenerator(\n",
    "    preprocessing_function=applications.xception.preprocess_input\n",
    ")\n",
    "\n",
    "flow_from_directory_params = {'target_size': (HEIGHT, WIDTH),\n",
    "                              'color_mode': 'grayscale',\n",
    "                              'class_mode': None,\n",
    "                              'batch_size': BATCH_SIZE}\n",
    "\n",
    "real_generator = datagen.flow_from_directory(\n",
    "        directory=\".\",\n",
    "        **flow_from_directory_params\n",
    ")"
   ]
  },
  {
   "cell_type": "markdown",
   "metadata": {},
   "source": [
    "# (Dumb) Generator\n",
    "\n",
    "Now that we have processed all the real captchas, we need to define a generator that outputs (captcha, label) pairs where the captchas should look almost like the real ones.\n",
    "\n",
    "We filter out the outliers that contain overlapping characters."
   ]
  },
  {
   "cell_type": "code",
   "execution_count": 18,
   "metadata": {},
   "outputs": [],
   "source": [
    "# Synthetic captcha generator\n",
    "from PIL import ImageFont, ImageDraw\n",
    "from random import choice, random\n",
    "from string import ascii_lowercase, digits\n",
    "alphanumeric = ascii_lowercase + digits\n",
    "\n",
    "\n",
    "def fuzzy_loc(locs):\n",
    "    acc = []\n",
    "    for i,loc in enumerate(locs[:-1]):\n",
    "        if locs[i+1] - loc < 8:\n",
    "            continue\n",
    "        else:\n",
    "            acc.append(loc)\n",
    "    return acc\n",
    "\n",
    "def seg(img):\n",
    "    arr = np.array(img, dtype=np.float)\n",
    "    arr = arr.transpose()\n",
    "    # arr = np.mean(arr, axis=2)\n",
    "    arr = np.sum(arr, axis=1)\n",
    "    locs = np.where(arr < arr.min() + 2)[0].tolist()\n",
    "    locs = fuzzy_loc(locs)\n",
    "    return locs\n",
    "\n",
    "def is_well_formed(img_path):\n",
    "    original_img = Image.open(img_path)\n",
    "    img = original_img.convert('1')\n",
    "    return len(seg(img)) == 4\n",
    "\n",
    "noiseimg = np.array(Image.open(\"avg.png\").convert(\"1\"))\n",
    "# noiseimg = np.bitwise_not(noiseimg)\n",
    "fnt = ImageFont.truetype('./arial-extra.otf', 26)\n",
    "def gen_one():\n",
    "    og = Image.new(\"1\", (100,50))\n",
    "    text = ''.join([choice(alphanumeric) for _ in range(4)])\n",
    "    draw = ImageDraw.Draw(og)\n",
    "    for i, t in enumerate(text):\n",
    "        txt=Image.new('L', (40,40))\n",
    "        d = ImageDraw.Draw(txt)\n",
    "        d.text( (0, 0), t,  font=fnt, fill=255)\n",
    "        if random() > 0.5:\n",
    "            w=txt.rotate(-20*(random()-1),  expand=1)\n",
    "            og.paste( w, (i*20 + int(25*random()), int(25+30*(random()-1))),  w)\n",
    "        else:\n",
    "            w=txt.rotate(20*(random()-1),  expand=1)\n",
    "            og.paste( w, (i*20 + int(25*random()), int(20*random())),  w)\n",
    "    segments = seg(og)\n",
    "    if len(segments) != 4:\n",
    "        return gen_one()\n",
    "    ogarr = np.array(og)\n",
    "    ogarr = np.bitwise_or(noiseimg, ogarr)\n",
    "    ogarr = np.expand_dims(ogarr, axis=2).astype(float)\n",
    "    ogarr = np.random.random(size=(50,100,1)) * ogarr\n",
    "    ogarr = (ogarr > 0.0).astype(float) # add noise\n",
    "    return ogarr, text\n",
    "\n",
    "def synth_generator():\n",
    "    arrs = []\n",
    "    while True:\n",
    "        for _ in range(BATCH_SIZE):\n",
    "            arrs.append(gen_one()[0])\n",
    "        yield np.array(arrs)\n",
    "        arrs = []"
   ]
  },
  {
   "cell_type": "code",
   "execution_count": 19,
   "metadata": {},
   "outputs": [],
   "source": [
    "def get_image_batch(generator):\n",
    "    \"\"\"keras generators may generate an incomplete batch for the last batch\"\"\"\n",
    "    img_batch = next(generator)\n",
    "    if len(img_batch) != BATCH_SIZE:\n",
    "        img_batch = next(generator)\n",
    "\n",
    "    assert len(img_batch) == BATCH_SIZE\n",
    "\n",
    "    return img_batch"
   ]
  },
  {
   "cell_type": "code",
   "execution_count": 20,
   "metadata": {},
   "outputs": [
    {
     "data": {
      "text/plain": [
       "<matplotlib.image.AxesImage at 0xb1a911400>"
      ]
     },
     "execution_count": 20,
     "metadata": {},
     "output_type": "execute_result"
    },
    {
     "data": {
      "image/png": "[encoded data removed]",
      "text/plain": [
       "<Figure size 432x288 with 1 Axes>"
      ]
     },
     "metadata": {},
     "output_type": "display_data"
    }
   ],
   "source": [
    "import matplotlib.pyplot as plt\n",
    "imarr = get_image_batch(real_generator)[0, :, :, 0]\n",
    "plt.imshow(imarr)"
   ]
  },
  {
   "cell_type": "code",
   "execution_count": 21,
   "metadata": {},
   "outputs": [
    {
     "name": "stdout",
     "output_type": "stream",
     "text": [
      "(50, 100)\n"
     ]
    },
    {
     "data": {
      "text/plain": [
       "<matplotlib.image.AxesImage at 0xb1a973400>"
      ]
     },
     "execution_count": 21,
     "metadata": {},
     "output_type": "execute_result"
    },
    {
     "data": {
      "image/png": "[encoded data removed]",
      "text/plain": [
       "<Figure size 432x288 with 1 Axes>"
      ]
     },
     "metadata": {},
     "output_type": "display_data"
    }
   ],
   "source": [
    "imarr = get_image_batch(synth_generator())[0, :, :, 0]\n",
    "print(imarr.shape)\n",
    "plt.imshow(imarr)"
   ]
  },
  {
   "cell_type": "markdown",
   "metadata": {},
   "source": [
    "# What happened next?\n",
    "\n",
    "Plug all the data in an MNIST-like classifier and call it a day. Unfortunately, it's not that simple.\n",
    "\n",
    "I actually spent a long time fine-tuning the network but accuracy plateued around 55% sampled. The passing requirement is 10000 out of 15000 submitted or 90% accuracy or 66% per char. I was facing a dilemma: tune the model even further or manually label x amount of data: \n",
    "```\n",
    "0.55 * (15000-x) + x = 10000\n",
    "                   x = 3888\n",
    "```\n",
    "\n",
    "Obviously I am not going to label 4000 captchas and break my neck in the process.\n",
    "\n",
    "Meanwhile, there happened a burnt out guy who decided to label all 10000 captchas. This dilligent dude was 2000 in. I asked if he is willing to collaborate on a solution. It's almost like he didn't want to label captchas anymore. He agreed immediately.\n",
    "\n",
    "Using the same model, accuracy immediately shot up to 95% and we both qualified for HackMIT.\n",
    "\n",
    "/aside\n",
    "\n",
    "After the contest, I perfected the model and got 95% without labelling a single image. Here is the model for SimGAN:\n",
    "\n",
    "![SimGAN](http://www.fudzilla.com/images/stories/2016/December/apple-simgan-generative-adversarial-networks.jpg)"
   ]
  },
  {
   "cell_type": "markdown",
   "metadata": {},
   "source": [
    "# Model Definition\n",
    "\n",
    "There are three components to the network:\n",
    "\n",
    "### Refiner\n",
    "\n",
    "The refiner network, Rθ, is a residual network (ResNet). It modifies the synthetic image on a pixel level, rather than holistically modifying the image content, preserving the global structure and annotations.\n",
    "\n",
    "### Discriminator\n",
    "\n",
    "The discriminator network Dφ, is a simple ConvNet that contains 5 conv layers and 2 max-pooling layers. It's abinary classifier that outputs whether a captcha is synthesized or real.\n",
    "\n",
    "### Combined\n",
    "\n",
    "Pipe the refined image into discriminator."
   ]
  },
  {
   "cell_type": "code",
   "execution_count": 25,
   "metadata": {},
   "outputs": [
    {
     "name": "stderr",
     "output_type": "stream",
     "text": [
      "/usr/local/miniconda3/envs/everything/lib/python3.6/site-packages/ipykernel_launcher.py:22: UserWarning: Update your `Conv2D` call to the Keras 2 API: `Conv2D(64, (3, 3), activation=\"relu\", padding=\"same\")`\n",
      "/usr/local/miniconda3/envs/everything/lib/python3.6/site-packages/ipykernel_launcher.py:14: UserWarning: Update your `Conv2D` call to the Keras 2 API: `Conv2D(64, (3, 3), padding=\"same\")`\n",
      "  \n",
      "/usr/local/miniconda3/envs/everything/lib/python3.6/site-packages/ipykernel_launcher.py:16: UserWarning: Update your `Conv2D` call to the Keras 2 API: `Conv2D(64, (3, 3), padding=\"same\")`\n",
      "  app.launch_new_instance()\n",
      "/usr/local/miniconda3/envs/everything/lib/python3.6/site-packages/ipykernel_launcher.py:18: UserWarning: The `merge` function is deprecated and will be removed after 08/2017. Use instead layers from `keras.layers.merge`, e.g. `add`, `concatenate`, etc.\n",
      "/usr/local/miniconda3/envs/everything/lib/python3.6/site-packages/keras/legacy/layers.py:465: UserWarning: The `Merge` layer is deprecated and will be removed after 08/2017. Use instead layers from `keras.layers.merge`, e.g. `add`, `concatenate`, etc.\n",
      "  name=name)\n",
      "/usr/local/miniconda3/envs/everything/lib/python3.6/site-packages/ipykernel_launcher.py:30: UserWarning: Update your `Conv2D` call to the Keras 2 API: `Conv2D(1, (1, 1), activation=\"tanh\", padding=\"same\")`\n",
      "/usr/local/miniconda3/envs/everything/lib/python3.6/site-packages/ipykernel_launcher.py:51: UserWarning: Update your `Model` call to the Keras 2 API: `Model(name=\"refiner\", inputs=Tensor(\"in..., outputs=Tensor(\"co...)`\n",
      "/usr/local/miniconda3/envs/everything/lib/python3.6/site-packages/ipykernel_launcher.py:37: UserWarning: Update your `Conv2D` call to the Keras 2 API: `Conv2D(96, (3, 3), activation=\"relu\", strides=(2, 2), padding=\"same\")`\n",
      "/usr/local/miniconda3/envs/everything/lib/python3.6/site-packages/ipykernel_launcher.py:38: UserWarning: Update your `Conv2D` call to the Keras 2 API: `Conv2D(64, (3, 3), activation=\"relu\", strides=(2, 2), padding=\"same\")`\n",
      "/usr/local/miniconda3/envs/everything/lib/python3.6/site-packages/ipykernel_launcher.py:39: UserWarning: Update your `MaxPooling2D` call to the Keras 2 API: `MaxPooling2D(pool_size=(3, 3), strides=(1, 1), padding=\"same\")`\n",
      "/usr/local/miniconda3/envs/everything/lib/python3.6/site-packages/ipykernel_launcher.py:40: UserWarning: Update your `Conv2D` call to the Keras 2 API: `Conv2D(32, (3, 3), activation=\"relu\", strides=(1, 1), padding=\"same\")`\n",
      "/usr/local/miniconda3/envs/everything/lib/python3.6/site-packages/ipykernel_launcher.py:41: UserWarning: Update your `Conv2D` call to the Keras 2 API: `Conv2D(32, (1, 1), activation=\"relu\", strides=(1, 1), padding=\"same\")`\n",
      "/usr/local/miniconda3/envs/everything/lib/python3.6/site-packages/ipykernel_launcher.py:42: UserWarning: Update your `Conv2D` call to the Keras 2 API: `Conv2D(2, (1, 1), activation=\"relu\", strides=(1, 1), padding=\"same\")`\n",
      "/usr/local/miniconda3/envs/everything/lib/python3.6/site-packages/ipykernel_launcher.py:57: UserWarning: Update your `Model` call to the Keras 2 API: `Model(name=\"discriminator\", inputs=Tensor(\"in..., outputs=Tensor(\"re...)`\n",
      "/usr/local/miniconda3/envs/everything/lib/python3.6/site-packages/ipykernel_launcher.py:63: UserWarning: Update your `Model` call to the Keras 2 API: `Model(name=\"combined\", inputs=Tensor(\"in..., outputs=[<tf.Tenso...)`\n"
     ]
    }
   ],
   "source": [
    "def refiner_network(input_image_tensor):\n",
    "    \"\"\"\n",
    "    :param input_image_tensor: Input tensor that corresponds to a synthetic image.\n",
    "    :return: Output tensor that corresponds to a refined synthetic image.\n",
    "    \"\"\"\n",
    "    def resnet_block(input_features, nb_features=64, nb_kernel_rows=3, nb_kernel_cols=3):\n",
    "        \"\"\"\n",
    "        A ResNet block with two `nb_kernel_rows` x `nb_kernel_cols` convolutional layers,\n",
    "        each with `nb_features` feature maps.\n",
    "        See Figure 6 in https://arxiv.org/pdf/1612.07828v1.pdf.\n",
    "        :param input_features: Input tensor to ResNet block.\n",
    "        :return: Output tensor from ResNet block.\n",
    "        \"\"\"\n",
    "        y = layers.Convolution2D(nb_features, nb_kernel_rows, nb_kernel_cols, border_mode='same')(input_features)\n",
    "        y = layers.Activation('relu')(y)\n",
    "        y = layers.Convolution2D(nb_features, nb_kernel_rows, nb_kernel_cols, border_mode='same')(y)\n",
    "\n",
    "        y = layers.merge([input_features, y], mode='sum')\n",
    "        return layers.Activation('relu')(y)\n",
    "\n",
    "    # an input image of size w × h is convolved with 3 × 3 filters that output 64 feature maps\n",
    "    x = layers.Convolution2D(64, 3, 3, border_mode='same', activation='relu')(input_image_tensor)\n",
    "\n",
    "    # the output is passed through 4 ResNet blocks\n",
    "    for _ in range(4):\n",
    "        x = resnet_block(x)\n",
    "\n",
    "    # the output of the last ResNet block is passed to a 1 × 1 convolutional layer producing 1 feature map\n",
    "    # corresponding to the refined synthetic image\n",
    "    return layers.Convolution2D(1, 1, 1, border_mode='same', activation='tanh')(x)\n",
    "\n",
    "def discriminator_network(input_image_tensor):\n",
    "    \"\"\"\n",
    "    :param input_image_tensor: Input tensor corresponding to an image, either real or refined.\n",
    "    :return: Output tensor that corresponds to the probability of whether an image is real or refined.\n",
    "    \"\"\"\n",
    "    x = layers.Convolution2D(96, 3, 3, border_mode='same', subsample=(2, 2), activation='relu')(input_image_tensor)\n",
    "    x = layers.Convolution2D(64, 3, 3, border_mode='same', subsample=(2, 2), activation='relu')(x)\n",
    "    x = layers.MaxPooling2D(pool_size=(3, 3), border_mode='same', strides=(1, 1))(x)\n",
    "    x = layers.Convolution2D(32, 3, 3, border_mode='same', subsample=(1, 1), activation='relu')(x)\n",
    "    x = layers.Convolution2D(32, 1, 1, border_mode='same', subsample=(1, 1), activation='relu')(x)\n",
    "    x = layers.Convolution2D(2, 1, 1, border_mode='same', subsample=(1, 1), activation='relu')(x)\n",
    "\n",
    "    # here one feature map corresponds to `is_real` and the other to `is_refined`,\n",
    "    # and the custom loss function is then `tf.nn.sparse_softmax_cross_entropy_with_logits`\n",
    "    return layers.Reshape((-1, 2))(x)\n",
    "\n",
    "# Refiner\n",
    "synthetic_image_tensor = layers.Input(shape=(HEIGHT, WIDTH, 1))\n",
    "refined_image_tensor = refiner_network(synthetic_image_tensor)\n",
    "refiner_model = models.Model(input=synthetic_image_tensor, output=refined_image_tensor, name='refiner')\n",
    "\n",
    "# Discriminator\n",
    "refined_or_real_image_tensor = layers.Input(shape=(HEIGHT, WIDTH, 1))\n",
    "discriminator_output = discriminator_network(refined_or_real_image_tensor)\n",
    "discriminator_model = models.Model(input=refined_or_real_image_tensor, output=discriminator_output,\n",
    "                                   name='discriminator')\n",
    "\n",
    "# Combined\n",
    "refiner_model_output = refiner_model(synthetic_image_tensor)\n",
    "combined_output = discriminator_model(refiner_model_output)\n",
    "combined_model = models.Model(input=synthetic_image_tensor, output=[refiner_model_output, combined_output],\n",
    "                              name='combined')\n",
    "\n",
    "def self_regularization_loss(y_true, y_pred):\n",
    "    delta = 0.0001  # FIXME: need to figure out an appropriate value for this\n",
    "    return tf.multiply(delta, tf.reduce_sum(tf.abs(y_pred - y_true)))\n",
    "\n",
    "# define custom local adversarial loss (softmax for each image section) for the discriminator\n",
    "# the adversarial loss function is the sum of the cross-entropy losses over the local patches\n",
    "def local_adversarial_loss(y_true, y_pred):\n",
    "    # y_true and y_pred have shape (batch_size, # of local patches, 2), but really we just want to average over\n",
    "    # the local patches and batch size so we can reshape to (batch_size * # of local patches, 2)\n",
    "    y_true = tf.reshape(y_true, (-1, 2))\n",
    "    y_pred = tf.reshape(y_pred, (-1, 2))\n",
    "    loss = tf.nn.softmax_cross_entropy_with_logits(labels=y_true, logits=y_pred)\n",
    "\n",
    "    return tf.reduce_mean(loss)\n",
    "\n",
    "\n",
    "# compile models\n",
    "BATCH_SIZE = 512\n",
    "sgd = optimizers.RMSprop()\n",
    "\n",
    "refiner_model.compile(optimizer=sgd, loss=self_regularization_loss)\n",
    "discriminator_model.compile(optimizer=sgd, loss=local_adversarial_loss)\n",
    "discriminator_model.trainable = False\n",
    "combined_model.compile(optimizer=sgd, loss=[self_regularization_loss, local_adversarial_loss])"
   ]
  },
  {
   "cell_type": "markdown",
   "metadata": {},
   "source": [
    "# Pre-training\n",
    "\n",
    "It is not necessary to pre-train GANs but it seems pretraining makes GANs converge faster. Here we pre-train both models. For the refiner, we train by supplying the identity. For the discriminator, we train with the correct real, synth labeled pairs."
   ]
  },
  {
   "cell_type": "code",
   "execution_count": 26,
   "metadata": {},
   "outputs": [],
   "source": [
    "# the target labels for the cross-entropy loss layer are 0 for every yj (real) and 1 for every xi (refined)\n",
    "\n",
    "y_real = np.array([[[1.0, 0.0]] * discriminator_model.output_shape[1]] * BATCH_SIZE)\n",
    "y_refined = np.array([[[0.0, 1.0]] * discriminator_model.output_shape[1]] * BATCH_SIZE)\n",
    "assert y_real.shape == (BATCH_SIZE, discriminator_model.output_shape[1], 2)"
   ]
  },
  {
   "cell_type": "code",
   "execution_count": null,
   "metadata": {},
   "outputs": [
    {
     "name": "stdout",
     "output_type": "stream",
     "text": [
      "pre-training the refiner network...\n"
     ]
    }
   ],
   "source": [
    "LOG_INTERVAL = 10\n",
    "MODEL_DIR = \"./model/\"\n",
    "print('pre-training the refiner network...')\n",
    "gen_loss = np.zeros(shape=len(refiner_model.metrics_names))\n",
    "\n",
    "for i in range(100):\n",
    "    synthetic_image_batch = get_image_batch(synth_generator())\n",
    "    gen_loss = np.add(refiner_model.train_on_batch(synthetic_image_batch, synthetic_image_batch), gen_loss)\n",
    "\n",
    "    # log every `log_interval` steps\n",
    "    if not i % LOG_INTERVAL:\n",
    "        print('Refiner model self regularization loss: {}.'.format(gen_loss / LOG_INTERVAL))\n",
    "        gen_loss = np.zeros(shape=len(refiner_model.metrics_names))\n",
    "\n",
    "refiner_model.save(os.path.join(MODEL_DIR, 'refiner_model_pre_trained.h5'))\n"
   ]
  },
  {
   "cell_type": "code",
   "execution_count": null,
   "metadata": {},
   "outputs": [],
   "source": [
    "from tqdm import tqdm\n",
    "print('pre-training the discriminator network...')\n",
    "disc_loss = np.zeros(shape=len(discriminator_model.metrics_names))\n",
    "\n",
    "for _ in tqdm(range(100)):\n",
    "    real_image_batch = get_image_batch(real_generator)\n",
    "    disc_loss = np.add(discriminator_model.train_on_batch(real_image_batch, y_real), disc_loss)\n",
    "\n",
    "    synthetic_image_batch = get_image_batch(synth_generator())\n",
    "    refined_image_batch = refiner_model.predict_on_batch(synthetic_image_batch)\n",
    "    disc_loss = np.add(discriminator_model.train_on_batch(refined_image_batch, y_refined), disc_loss)\n",
    "\n",
    "discriminator_model.save(os.path.join(MODEL_DIR, 'discriminator_model_pre_trained.h5'))\n",
    "\n",
    "# hard-coded for now\n",
    "print('Discriminator model loss: {}.'.format(disc_loss / (100 * 2)))"
   ]
  },
  {
   "cell_type": "markdown",
   "metadata": {},
   "source": [
    "# Training\n",
    "\n",
    "This is the most important training step in which we refine a synthesized captcha, then pass it through the discriminator and backprop gradients."
   ]
  },
  {
   "cell_type": "code",
   "execution_count": null,
   "metadata": {},
   "outputs": [],
   "source": [
    "from image_history_buffer import ImageHistoryBuffer\n",
    "\n",
    "\n",
    "k_d = 1  # number of discriminator updates per step\n",
    "k_g = 2  # number of generative network updates per step\n",
    "nb_steps = 1000\n",
    "\n",
    "# TODO: what is an appropriate size for the image history buffer?\n",
    "image_history_buffer = ImageHistoryBuffer((0, HEIGHT, WIDTH, 1), BATCH_SIZE * 100, BATCH_SIZE)\n",
    "\n",
    "combined_loss = np.zeros(shape=len(combined_model.metrics_names))\n",
    "disc_loss_real = np.zeros(shape=len(discriminator_model.metrics_names))\n",
    "disc_loss_refined = np.zeros(shape=len(discriminator_model.metrics_names))\n",
    "\n",
    "# see Algorithm 1 in https://arxiv.org/pdf/1612.07828v1.pdf\n",
    "for i in range(nb_steps):\n",
    "    print('Step: {} of {}.'.format(i, nb_steps))\n",
    "\n",
    "    # train the refiner\n",
    "    for _ in range(k_g * 2):\n",
    "        # sample a mini-batch of synthetic images\n",
    "        synthetic_image_batch = get_image_batch(synth_generator())\n",
    "\n",
    "        # update θ by taking an SGD step on mini-batch loss LR(θ)\n",
    "        combined_loss = np.add(combined_model.train_on_batch(synthetic_image_batch,\n",
    "                                                             [synthetic_image_batch, y_real]), combined_loss)\n",
    "\n",
    "    for _ in range(k_d):\n",
    "        # sample a mini-batch of synthetic and real images\n",
    "        synthetic_image_batch = get_image_batch(synth_generator())\n",
    "        real_image_batch = get_image_batch(real_generator)\n",
    "\n",
    "        # refine the synthetic images w/ the current refiner\n",
    "        refined_image_batch = refiner_model.predict_on_batch(synthetic_image_batch)\n",
    "\n",
    "        # use a history of refined images\n",
    "        half_batch_from_image_history = image_history_buffer.get_from_image_history_buffer()\n",
    "        image_history_buffer.add_to_image_history_buffer(refined_image_batch)\n",
    "\n",
    "        if len(half_batch_from_image_history):\n",
    "            refined_image_batch[:batch_size // 2] = half_batch_from_image_history\n",
    "\n",
    "        # update φ by taking an SGD step on mini-batch loss LD(φ)\n",
    "        disc_loss_real = np.add(discriminator_model.train_on_batch(real_image_batch, y_real), disc_loss_real)\n",
    "        disc_loss_refined = np.add(discriminator_model.train_on_batch(refined_image_batch, y_refined),\n",
    "                                   disc_loss_refined)\n",
    "\n",
    "    if not i % LOG_INTERVAL:\n",
    "        # log loss summary\n",
    "        print('Refiner model loss: {}.'.format(combined_loss / (LOG_INTERVAL * k_g * 2)))\n",
    "        print('Discriminator model loss real: {}.'.format(disc_loss_real / (LOG_INTERVAL * k_d * 2)))\n",
    "        print('Discriminator model loss refined: {}.'.format(disc_loss_refined / (LOG_INTERVAL * k_d * 2)))\n",
    "\n",
    "        combined_loss = np.zeros(shape=len(combined_model.metrics_names))\n",
    "        disc_loss_real = np.zeros(shape=len(discriminator_model.metrics_names))\n",
    "        disc_loss_refined = np.zeros(shape=len(discriminator_model.metrics_names))\n",
    "\n",
    "        # save model checkpoints\n",
    "        model_checkpoint_base_name = os.path.join(MODEL_DIR, '{}_model_step_{}.h5')\n",
    "        refiner_model.save(model_checkpoint_base_name.format('refiner', i))\n",
    "        discriminator_model.save(model_checkpoint_base_name.format('discriminator', i))\n"
   ]
  },
  {
   "cell_type": "markdown",
   "metadata": {},
   "source": [
    "# Results of SimGAN:\n",
    "\n",
    "As you can see below, we no longer have the cookie-cutter fonts. There are quite a few artifacts that did not exist before refinement. The edges are blurred and noisy - which is *impossible* to simulate heuristically. And it is exactly these tiny things that renders MNIST-like convnet useless.\n",
    "\n",
    "Now the refined results are basically the original captchas."
   ]
  },
  {
   "cell_type": "code",
   "execution_count": null,
   "metadata": {},
   "outputs": [],
   "source": [
    "synthetic_image_batch = get_image_batch(synth_generator())\n",
    "arr = refiner_model.predict_on_batch(synthetic_image_batch)"
   ]
  },
  {
   "cell_type": "code",
   "execution_count": null,
   "metadata": {},
   "outputs": [],
   "source": [
    "plt.imshow(arr[200, :, :, 0])"
   ]
  },
  {
   "cell_type": "code",
   "execution_count": null,
   "metadata": {},
   "outputs": [],
   "source": [
    "plt.imshow(get_image_batch(real_generator)[2,:,:,0])"
   ]
  },
  {
   "cell_type": "markdown",
   "metadata": {},
   "source": [
    "# MNIST for Captcha\n",
    "\n",
    "Now we finish the puzzle by building an MNIST like convnet to predict captcha labels."
   ]
  },
  {
   "cell_type": "code",
   "execution_count": null,
   "metadata": {},
   "outputs": [],
   "source": [
    "n_class = len(alphanumeric)\n",
    "\n",
    "def mnist_raw_generator(batch_size=128):\n",
    "    X = np.zeros((batch_size, HEIGHT, WIDTH, 1), dtype=np.uint8)\n",
    "    y = [np.zeros((batch_size, n_class), dtype=np.uint8) for _ in range(4)] # 4 chars\n",
    "    while True:\n",
    "        for i in range(batch_size):\n",
    "            im, random_str = gen_one()\n",
    "            X[i] = im\n",
    "            for j, ch in enumerate(random_str):\n",
    "                y[j][i, :] = 0\n",
    "                y[j][i, alphanumeric.find(ch)] = 1\n",
    "        yield np.array(X), y\n",
    "\n",
    "def mnist_generator(batch_size=128):\n",
    "    X = np.zeros((batch_size, HEIGHT, WIDTH, 1), dtype=np.uint8)\n",
    "    y = [np.zeros((batch_size, n_class), dtype=np.uint8) for _ in range(4)] # 4 chars\n",
    "    while True:\n",
    "        for i in range(batch_size):\n",
    "            im, random_str = gen_one()\n",
    "            X[i] = im\n",
    "            for j, ch in enumerate(random_str):\n",
    "                y[j][i, :] = 0\n",
    "                y[j][i, alphanumeric.find(ch)] = 1\n",
    "        yield refiner_model.predict(np.array(X)), y\n",
    "\n",
    "mg = mnist_generator().next()\n",
    "\n",
    "# plt.imshow(mg[0][0,:,:,0]) # sanity check"
   ]
  },
  {
   "cell_type": "code",
   "execution_count": null,
   "metadata": {
    "scrolled": true
   },
   "outputs": [],
   "source": [
    "from keras.layers import *\n",
    "\n",
    "input_tensor = Input((HEIGHT, WIDTH, 1))\n",
    "x = input_tensor\n",
    "x = Conv2D(32, kernel_size=(3, 3),\n",
    "                 activation='relu')(x)\n",
    "for _ in range(4):\n",
    "    x = Conv2D(128, (3, 3), activation='relu')(x)\n",
    "    x = MaxPooling2D(pool_size=(2, 2))(x)\n",
    "x = Dropout(0.25)(x)\n",
    "x = Flatten()(x)\n",
    "x = Dense(128, activation='relu')(x)\n",
    "x = Dropout(0.5)(x)\n",
    "x = [Dense(n_class, activation='softmax', name='c%d'%(i+1))(x) for i in range(4)]\n",
    "\n",
    "model = models.Model(inputs=input_tensor, outputs=x)\n",
    "model.compile(loss='categorical_crossentropy',\n",
    "              optimizer='rmsprop',\n",
    "              metrics=['accuracy'])"
   ]
  },
  {
   "cell_type": "code",
   "execution_count": null,
   "metadata": {},
   "outputs": [],
   "source": [
    "from keras.callbacks import History\n",
    "history = History()\n",
    "model.fit_generator(mnist_generator(), steps_per_epoch=1000, epochs=20, callbacks=[history])"
   ]
  },
  {
   "cell_type": "markdown",
   "metadata": {},
   "source": [
    "# Let's test the trained model\n",
    "\n",
    "## Synthetic"
   ]
  },
  {
   "cell_type": "code",
   "execution_count": null,
   "metadata": {},
   "outputs": [],
   "source": [
    "def decode(y):\n",
    "    y = np.argmax(np.array(y), axis=2)[:,0]\n",
    "    return ''.join([alphanumeric[x] for x in y])\n",
    "\n",
    "X, y = next(mnist_generator(1))\n",
    "plt.title('real: %s\\npred:%s'%(decode(y), decode(y_pred)))\n",
    "plt.imshow(X[0, :, :, 0], cmap='gray')\n",
    "plt.axis('off')"
   ]
  },
  {
   "cell_type": "markdown",
   "metadata": {},
   "source": [
    "## Real"
   ]
  },
  {
   "cell_type": "code",
   "execution_count": null,
   "metadata": {},
   "outputs": [],
   "source": [
    "\n",
    "X = next(real_generator)\n",
    "X = refiner_model.predict(X)\n",
    "y_pred = model.predict(X)\n",
    "plt.title('pred:%s'%(decode(y_pred)))\n",
    "plt.imshow(X[0,:,:,0], cmap='gray')\n",
    "plt.axis('off')"
   ]
  },
  {
   "cell_type": "code",
   "execution_count": null,
   "metadata": {},
   "outputs": [],
   "source": []
  }
 ],
 "metadata": {
  "kernelspec": {
   "display_name": "Python 3",
   "language": "python",
   "name": "python3"
  },
  "language_info": {
   "codemirror_mode": {
    "name": "ipython",
    "version": 3
   },
   "file_extension": ".py",
   "mimetype": "text/x-python",
   "name": "python",
   "nbconvert_exporter": "python",
   "pygments_lexer": "ipython3",
   "version": "3.6.5"
  }
 },
 "nbformat": 4,
 "nbformat_minor": 2
}
